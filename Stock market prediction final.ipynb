{
 "cells": [
  {
   "cell_type": "markdown",
   "id": "081e48ee",
   "metadata": {},
   "source": [
    "# Lets Grow More(LGMVIP)\n",
    "## Task 2: Stock Market Prediction and forecasting using stacked LSTM\n",
    "### Author: Omkar Sanjay Chavan"
   ]
  },
  {
   "cell_type": "code",
   "execution_count": 1,
   "id": "2582fa70",
   "metadata": {},
   "outputs": [],
   "source": [
    "import pandas as pd\n",
    "import numpy as np\n",
    "import matplotlib.pyplot as plt\n",
    "import seaborn as sns\n"
   ]
  },
  {
   "cell_type": "code",
   "execution_count": 2,
   "id": "875f0e90",
   "metadata": {
    "scrolled": true
   },
   "outputs": [],
   "source": [
    "df=pd.read_csv(\"D:/Omkar/raw.githubusercontent.com_mwitiderrick_stockprice_master_NSE-TATAGLOBAL.csv\")"
   ]
  },
  {
   "cell_type": "code",
   "execution_count": 3,
   "id": "b3106f50",
   "metadata": {
    "scrolled": true
   },
   "outputs": [
    {
     "data": {
      "text/html": [
       "<div>\n",
       "<style scoped>\n",
       "    .dataframe tbody tr th:only-of-type {\n",
       "        vertical-align: middle;\n",
       "    }\n",
       "\n",
       "    .dataframe tbody tr th {\n",
       "        vertical-align: top;\n",
       "    }\n",
       "\n",
       "    .dataframe thead th {\n",
       "        text-align: right;\n",
       "    }\n",
       "</style>\n",
       "<table border=\"1\" class=\"dataframe\">\n",
       "  <thead>\n",
       "    <tr style=\"text-align: right;\">\n",
       "      <th></th>\n",
       "      <th>Date</th>\n",
       "      <th>Open</th>\n",
       "      <th>High</th>\n",
       "      <th>Low</th>\n",
       "      <th>Last</th>\n",
       "      <th>Close</th>\n",
       "      <th>Total Trade Quantity</th>\n",
       "      <th>Turnover (Lacs)</th>\n",
       "    </tr>\n",
       "  </thead>\n",
       "  <tbody>\n",
       "    <tr>\n",
       "      <th>2030</th>\n",
       "      <td>2010-07-27</td>\n",
       "      <td>117.6</td>\n",
       "      <td>119.50</td>\n",
       "      <td>112.00</td>\n",
       "      <td>118.80</td>\n",
       "      <td>118.65</td>\n",
       "      <td>586100</td>\n",
       "      <td>694.98</td>\n",
       "    </tr>\n",
       "    <tr>\n",
       "      <th>2031</th>\n",
       "      <td>2010-07-26</td>\n",
       "      <td>120.1</td>\n",
       "      <td>121.00</td>\n",
       "      <td>117.10</td>\n",
       "      <td>117.10</td>\n",
       "      <td>117.60</td>\n",
       "      <td>658440</td>\n",
       "      <td>780.01</td>\n",
       "    </tr>\n",
       "    <tr>\n",
       "      <th>2032</th>\n",
       "      <td>2010-07-23</td>\n",
       "      <td>121.8</td>\n",
       "      <td>121.95</td>\n",
       "      <td>120.25</td>\n",
       "      <td>120.35</td>\n",
       "      <td>120.65</td>\n",
       "      <td>281312</td>\n",
       "      <td>340.31</td>\n",
       "    </tr>\n",
       "    <tr>\n",
       "      <th>2033</th>\n",
       "      <td>2010-07-22</td>\n",
       "      <td>120.3</td>\n",
       "      <td>122.00</td>\n",
       "      <td>120.25</td>\n",
       "      <td>120.75</td>\n",
       "      <td>120.90</td>\n",
       "      <td>293312</td>\n",
       "      <td>355.17</td>\n",
       "    </tr>\n",
       "    <tr>\n",
       "      <th>2034</th>\n",
       "      <td>2010-07-21</td>\n",
       "      <td>122.1</td>\n",
       "      <td>123.00</td>\n",
       "      <td>121.05</td>\n",
       "      <td>121.10</td>\n",
       "      <td>121.55</td>\n",
       "      <td>658666</td>\n",
       "      <td>803.56</td>\n",
       "    </tr>\n",
       "  </tbody>\n",
       "</table>\n",
       "</div>"
      ],
      "text/plain": [
       "            Date   Open    High     Low    Last   Close  Total Trade Quantity  \\\n",
       "2030  2010-07-27  117.6  119.50  112.00  118.80  118.65                586100   \n",
       "2031  2010-07-26  120.1  121.00  117.10  117.10  117.60                658440   \n",
       "2032  2010-07-23  121.8  121.95  120.25  120.35  120.65                281312   \n",
       "2033  2010-07-22  120.3  122.00  120.25  120.75  120.90                293312   \n",
       "2034  2010-07-21  122.1  123.00  121.05  121.10  121.55                658666   \n",
       "\n",
       "      Turnover (Lacs)  \n",
       "2030           694.98  \n",
       "2031           780.01  \n",
       "2032           340.31  \n",
       "2033           355.17  \n",
       "2034           803.56  "
      ]
     },
     "execution_count": 3,
     "metadata": {},
     "output_type": "execute_result"
    }
   ],
   "source": [
    "df.tail()"
   ]
  },
  {
   "cell_type": "code",
   "execution_count": 4,
   "id": "634e2b2a",
   "metadata": {},
   "outputs": [
    {
     "name": "stdout",
     "output_type": "stream",
     "text": [
      "<class 'pandas.core.frame.DataFrame'>\n",
      "RangeIndex: 2035 entries, 0 to 2034\n",
      "Data columns (total 8 columns):\n",
      " #   Column                Non-Null Count  Dtype  \n",
      "---  ------                --------------  -----  \n",
      " 0   Date                  2035 non-null   object \n",
      " 1   Open                  2035 non-null   float64\n",
      " 2   High                  2035 non-null   float64\n",
      " 3   Low                   2035 non-null   float64\n",
      " 4   Last                  2035 non-null   float64\n",
      " 5   Close                 2035 non-null   float64\n",
      " 6   Total Trade Quantity  2035 non-null   int64  \n",
      " 7   Turnover (Lacs)       2035 non-null   float64\n",
      "dtypes: float64(6), int64(1), object(1)\n",
      "memory usage: 127.3+ KB\n"
     ]
    }
   ],
   "source": [
    "df.info()"
   ]
  },
  {
   "cell_type": "code",
   "execution_count": 5,
   "id": "40388dbd",
   "metadata": {},
   "outputs": [
    {
     "data": {
      "text/plain": [
       "(2035, 8)"
      ]
     },
     "execution_count": 5,
     "metadata": {},
     "output_type": "execute_result"
    }
   ],
   "source": [
    "df.shape"
   ]
  },
  {
   "cell_type": "code",
   "execution_count": 6,
   "id": "5422ae18",
   "metadata": {},
   "outputs": [
    {
     "data": {
      "text/html": [
       "<div>\n",
       "<style scoped>\n",
       "    .dataframe tbody tr th:only-of-type {\n",
       "        vertical-align: middle;\n",
       "    }\n",
       "\n",
       "    .dataframe tbody tr th {\n",
       "        vertical-align: top;\n",
       "    }\n",
       "\n",
       "    .dataframe thead th {\n",
       "        text-align: right;\n",
       "    }\n",
       "</style>\n",
       "<table border=\"1\" class=\"dataframe\">\n",
       "  <thead>\n",
       "    <tr style=\"text-align: right;\">\n",
       "      <th></th>\n",
       "      <th>Open</th>\n",
       "      <th>High</th>\n",
       "      <th>Low</th>\n",
       "      <th>Last</th>\n",
       "      <th>Close</th>\n",
       "      <th>Total Trade Quantity</th>\n",
       "      <th>Turnover (Lacs)</th>\n",
       "    </tr>\n",
       "  </thead>\n",
       "  <tbody>\n",
       "    <tr>\n",
       "      <th>count</th>\n",
       "      <td>2035.000000</td>\n",
       "      <td>2035.000000</td>\n",
       "      <td>2035.000000</td>\n",
       "      <td>2035.000000</td>\n",
       "      <td>2035.00000</td>\n",
       "      <td>2.035000e+03</td>\n",
       "      <td>2035.000000</td>\n",
       "    </tr>\n",
       "    <tr>\n",
       "      <th>mean</th>\n",
       "      <td>149.713735</td>\n",
       "      <td>151.992826</td>\n",
       "      <td>147.293931</td>\n",
       "      <td>149.474251</td>\n",
       "      <td>149.45027</td>\n",
       "      <td>2.335681e+06</td>\n",
       "      <td>3899.980565</td>\n",
       "    </tr>\n",
       "    <tr>\n",
       "      <th>std</th>\n",
       "      <td>48.664509</td>\n",
       "      <td>49.413109</td>\n",
       "      <td>47.931958</td>\n",
       "      <td>48.732570</td>\n",
       "      <td>48.71204</td>\n",
       "      <td>2.091778e+06</td>\n",
       "      <td>4570.767877</td>\n",
       "    </tr>\n",
       "    <tr>\n",
       "      <th>min</th>\n",
       "      <td>81.100000</td>\n",
       "      <td>82.800000</td>\n",
       "      <td>80.000000</td>\n",
       "      <td>81.000000</td>\n",
       "      <td>80.95000</td>\n",
       "      <td>3.961000e+04</td>\n",
       "      <td>37.040000</td>\n",
       "    </tr>\n",
       "    <tr>\n",
       "      <th>25%</th>\n",
       "      <td>120.025000</td>\n",
       "      <td>122.100000</td>\n",
       "      <td>118.300000</td>\n",
       "      <td>120.075000</td>\n",
       "      <td>120.05000</td>\n",
       "      <td>1.146444e+06</td>\n",
       "      <td>1427.460000</td>\n",
       "    </tr>\n",
       "    <tr>\n",
       "      <th>50%</th>\n",
       "      <td>141.500000</td>\n",
       "      <td>143.400000</td>\n",
       "      <td>139.600000</td>\n",
       "      <td>141.100000</td>\n",
       "      <td>141.25000</td>\n",
       "      <td>1.783456e+06</td>\n",
       "      <td>2512.030000</td>\n",
       "    </tr>\n",
       "    <tr>\n",
       "      <th>75%</th>\n",
       "      <td>157.175000</td>\n",
       "      <td>159.400000</td>\n",
       "      <td>155.150000</td>\n",
       "      <td>156.925000</td>\n",
       "      <td>156.90000</td>\n",
       "      <td>2.813594e+06</td>\n",
       "      <td>4539.015000</td>\n",
       "    </tr>\n",
       "    <tr>\n",
       "      <th>max</th>\n",
       "      <td>327.700000</td>\n",
       "      <td>328.750000</td>\n",
       "      <td>321.650000</td>\n",
       "      <td>325.950000</td>\n",
       "      <td>325.75000</td>\n",
       "      <td>2.919102e+07</td>\n",
       "      <td>55755.080000</td>\n",
       "    </tr>\n",
       "  </tbody>\n",
       "</table>\n",
       "</div>"
      ],
      "text/plain": [
       "              Open         High          Low         Last       Close  \\\n",
       "count  2035.000000  2035.000000  2035.000000  2035.000000  2035.00000   \n",
       "mean    149.713735   151.992826   147.293931   149.474251   149.45027   \n",
       "std      48.664509    49.413109    47.931958    48.732570    48.71204   \n",
       "min      81.100000    82.800000    80.000000    81.000000    80.95000   \n",
       "25%     120.025000   122.100000   118.300000   120.075000   120.05000   \n",
       "50%     141.500000   143.400000   139.600000   141.100000   141.25000   \n",
       "75%     157.175000   159.400000   155.150000   156.925000   156.90000   \n",
       "max     327.700000   328.750000   321.650000   325.950000   325.75000   \n",
       "\n",
       "       Total Trade Quantity  Turnover (Lacs)  \n",
       "count          2.035000e+03      2035.000000  \n",
       "mean           2.335681e+06      3899.980565  \n",
       "std            2.091778e+06      4570.767877  \n",
       "min            3.961000e+04        37.040000  \n",
       "25%            1.146444e+06      1427.460000  \n",
       "50%            1.783456e+06      2512.030000  \n",
       "75%            2.813594e+06      4539.015000  \n",
       "max            2.919102e+07     55755.080000  "
      ]
     },
     "execution_count": 6,
     "metadata": {},
     "output_type": "execute_result"
    }
   ],
   "source": [
    "df.describe()"
   ]
  },
  {
   "cell_type": "code",
   "execution_count": 7,
   "id": "da5b2862",
   "metadata": {},
   "outputs": [
    {
     "data": {
      "text/plain": [
       "Date                    0\n",
       "Open                    0\n",
       "High                    0\n",
       "Low                     0\n",
       "Last                    0\n",
       "Close                   0\n",
       "Total Trade Quantity    0\n",
       "Turnover (Lacs)         0\n",
       "dtype: int64"
      ]
     },
     "execution_count": 7,
     "metadata": {},
     "output_type": "execute_result"
    }
   ],
   "source": [
    "df.isnull().sum()"
   ]
  },
  {
   "cell_type": "code",
   "execution_count": 8,
   "id": "d77b10c7",
   "metadata": {},
   "outputs": [
    {
     "data": {
      "text/plain": [
       "Index(['Date', 'Open', 'High', 'Low', 'Last', 'Close', 'Total Trade Quantity',\n",
       "       'Turnover (Lacs)'],\n",
       "      dtype='object')"
      ]
     },
     "execution_count": 8,
     "metadata": {},
     "output_type": "execute_result"
    }
   ],
   "source": [
    "df.columns"
   ]
  },
  {
   "cell_type": "code",
   "execution_count": 9,
   "id": "02270996",
   "metadata": {},
   "outputs": [
    {
     "data": {
      "text/plain": [
       "0       233.75\n",
       "1       233.25\n",
       "2       234.25\n",
       "3       236.10\n",
       "4       233.30\n",
       "         ...  \n",
       "2030    118.65\n",
       "2031    117.60\n",
       "2032    120.65\n",
       "2033    120.90\n",
       "2034    121.55\n",
       "Name: Close, Length: 2035, dtype: float64"
      ]
     },
     "execution_count": 9,
     "metadata": {},
     "output_type": "execute_result"
    }
   ],
   "source": [
    "df1=df.reset_index()['Close']\n",
    "df1"
   ]
  },
  {
   "cell_type": "code",
   "execution_count": 10,
   "id": "ca214ce5",
   "metadata": {},
   "outputs": [
    {
     "data": {
      "text/html": [
       "<div>\n",
       "<style scoped>\n",
       "    .dataframe tbody tr th:only-of-type {\n",
       "        vertical-align: middle;\n",
       "    }\n",
       "\n",
       "    .dataframe tbody tr th {\n",
       "        vertical-align: top;\n",
       "    }\n",
       "\n",
       "    .dataframe thead th {\n",
       "        text-align: right;\n",
       "    }\n",
       "</style>\n",
       "<table border=\"1\" class=\"dataframe\">\n",
       "  <thead>\n",
       "    <tr style=\"text-align: right;\">\n",
       "      <th></th>\n",
       "      <th>Date</th>\n",
       "      <th>Open</th>\n",
       "      <th>High</th>\n",
       "      <th>Low</th>\n",
       "      <th>Last</th>\n",
       "      <th>Close</th>\n",
       "      <th>Total Trade Quantity</th>\n",
       "      <th>Turnover (Lacs)</th>\n",
       "    </tr>\n",
       "  </thead>\n",
       "  <tbody>\n",
       "    <tr>\n",
       "      <th>0</th>\n",
       "      <td>2018-09-28</td>\n",
       "      <td>234.05</td>\n",
       "      <td>235.95</td>\n",
       "      <td>230.20</td>\n",
       "      <td>233.50</td>\n",
       "      <td>233.75</td>\n",
       "      <td>3069914</td>\n",
       "      <td>7162.35</td>\n",
       "    </tr>\n",
       "    <tr>\n",
       "      <th>1</th>\n",
       "      <td>2018-09-27</td>\n",
       "      <td>234.55</td>\n",
       "      <td>236.80</td>\n",
       "      <td>231.10</td>\n",
       "      <td>233.80</td>\n",
       "      <td>233.25</td>\n",
       "      <td>5082859</td>\n",
       "      <td>11859.95</td>\n",
       "    </tr>\n",
       "    <tr>\n",
       "      <th>2</th>\n",
       "      <td>2018-09-26</td>\n",
       "      <td>240.00</td>\n",
       "      <td>240.00</td>\n",
       "      <td>232.50</td>\n",
       "      <td>235.00</td>\n",
       "      <td>234.25</td>\n",
       "      <td>2240909</td>\n",
       "      <td>5248.60</td>\n",
       "    </tr>\n",
       "    <tr>\n",
       "      <th>3</th>\n",
       "      <td>2018-09-25</td>\n",
       "      <td>233.30</td>\n",
       "      <td>236.75</td>\n",
       "      <td>232.00</td>\n",
       "      <td>236.25</td>\n",
       "      <td>236.10</td>\n",
       "      <td>2349368</td>\n",
       "      <td>5503.90</td>\n",
       "    </tr>\n",
       "    <tr>\n",
       "      <th>4</th>\n",
       "      <td>2018-09-24</td>\n",
       "      <td>233.55</td>\n",
       "      <td>239.20</td>\n",
       "      <td>230.75</td>\n",
       "      <td>234.00</td>\n",
       "      <td>233.30</td>\n",
       "      <td>3423509</td>\n",
       "      <td>7999.55</td>\n",
       "    </tr>\n",
       "  </tbody>\n",
       "</table>\n",
       "</div>"
      ],
      "text/plain": [
       "         Date    Open    High     Low    Last   Close  Total Trade Quantity  \\\n",
       "0  2018-09-28  234.05  235.95  230.20  233.50  233.75               3069914   \n",
       "1  2018-09-27  234.55  236.80  231.10  233.80  233.25               5082859   \n",
       "2  2018-09-26  240.00  240.00  232.50  235.00  234.25               2240909   \n",
       "3  2018-09-25  233.30  236.75  232.00  236.25  236.10               2349368   \n",
       "4  2018-09-24  233.55  239.20  230.75  234.00  233.30               3423509   \n",
       "\n",
       "   Turnover (Lacs)  \n",
       "0          7162.35  \n",
       "1         11859.95  \n",
       "2          5248.60  \n",
       "3          5503.90  \n",
       "4          7999.55  "
      ]
     },
     "execution_count": 10,
     "metadata": {},
     "output_type": "execute_result"
    }
   ],
   "source": [
    "df.head()"
   ]
  },
  {
   "cell_type": "code",
   "execution_count": 11,
   "id": "1c03a5f4",
   "metadata": {},
   "outputs": [
    {
     "name": "stdout",
     "output_type": "stream",
     "text": [
      "<class 'pandas.core.frame.DataFrame'>\n",
      "RangeIndex: 2035 entries, 0 to 2034\n",
      "Data columns (total 8 columns):\n",
      " #   Column                Non-Null Count  Dtype         \n",
      "---  ------                --------------  -----         \n",
      " 0   Date                  2035 non-null   datetime64[ns]\n",
      " 1   Open                  2035 non-null   float64       \n",
      " 2   High                  2035 non-null   float64       \n",
      " 3   Low                   2035 non-null   float64       \n",
      " 4   Last                  2035 non-null   float64       \n",
      " 5   Close                 2035 non-null   float64       \n",
      " 6   Total Trade Quantity  2035 non-null   int64         \n",
      " 7   Turnover (Lacs)       2035 non-null   float64       \n",
      "dtypes: datetime64[ns](1), float64(6), int64(1)\n",
      "memory usage: 127.3 KB\n"
     ]
    }
   ],
   "source": [
    "df['Date']=pd.to_datetime(df[\"Date\"])\n",
    "df.info()"
   ]
  },
  {
   "cell_type": "code",
   "execution_count": 12,
   "id": "8776e333",
   "metadata": {},
   "outputs": [],
   "source": [
    "df1=df.reset_index()[\"Close\"]"
   ]
  },
  {
   "cell_type": "code",
   "execution_count": 13,
   "id": "f49f57fc",
   "metadata": {},
   "outputs": [
    {
     "data": {
      "text/plain": [
       "0       233.75\n",
       "1       233.25\n",
       "2       234.25\n",
       "3       236.10\n",
       "4       233.30\n",
       "         ...  \n",
       "2030    118.65\n",
       "2031    117.60\n",
       "2032    120.65\n",
       "2033    120.90\n",
       "2034    121.55\n",
       "Name: Close, Length: 2035, dtype: float64"
      ]
     },
     "execution_count": 13,
     "metadata": {},
     "output_type": "execute_result"
    }
   ],
   "source": [
    "df1"
   ]
  },
  {
   "cell_type": "code",
   "execution_count": 14,
   "id": "9ceacfa0",
   "metadata": {},
   "outputs": [
    {
     "data": {
      "text/plain": [
       "[<matplotlib.lines.Line2D at 0x2068c902490>]"
      ]
     },
     "execution_count": 14,
     "metadata": {},
     "output_type": "execute_result"
    },
    {
     "data": {
      "image/png": "[encoded data removed]",
      "text/plain": [
       "<Figure size 640x480 with 1 Axes>"
      ]
     },
     "metadata": {},
     "output_type": "display_data"
    }
   ],
   "source": [
    "\n",
    "plt.plot(df1)"
   ]
  },
  {
   "cell_type": "markdown",
   "id": "90de272c",
   "metadata": {},
   "source": [
    "### Scaling"
   ]
  },
  {
   "cell_type": "code",
   "execution_count": 15,
   "id": "cdac8178",
   "metadata": {},
   "outputs": [],
   "source": [
    "\n",
    "from sklearn.preprocessing import MinMaxScaler\n",
    "scaler = MinMaxScaler(feature_range=(0,1))\n",
    "df1=scaler.fit_transform(np.array(df1).reshape(-1,1))"
   ]
  },
  {
   "cell_type": "code",
   "execution_count": 16,
   "id": "668636c1",
   "metadata": {},
   "outputs": [
    {
     "data": {
      "text/plain": [
       "array([[0.62418301],\n",
       "       [0.62214052],\n",
       "       [0.62622549],\n",
       "       ...,\n",
       "       [0.1621732 ],\n",
       "       [0.16319444],\n",
       "       [0.16584967]])"
      ]
     },
     "execution_count": 16,
     "metadata": {},
     "output_type": "execute_result"
    }
   ],
   "source": [
    "df1"
   ]
  },
  {
   "cell_type": "markdown",
   "id": "04b64f52",
   "metadata": {},
   "source": [
    "### Training of data"
   ]
  },
  {
   "cell_type": "code",
   "execution_count": 17,
   "id": "93c199f0",
   "metadata": {},
   "outputs": [],
   "source": [
    "training_size=int(len(df1)*0.65)\n",
    "test_size=len(df1)-training_size\n",
    "train_data,test_data=df1[0:training_size,:],df1[training_size:len(df1),:1]"
   ]
  },
  {
   "cell_type": "code",
   "execution_count": 18,
   "id": "8739fb87",
   "metadata": {},
   "outputs": [
    {
     "data": {
      "text/plain": [
       "(1322, 713)"
      ]
     },
     "execution_count": 18,
     "metadata": {},
     "output_type": "execute_result"
    }
   ],
   "source": [
    "training_size,test_size"
   ]
  },
  {
   "cell_type": "code",
   "execution_count": 19,
   "id": "ddecd085",
   "metadata": {},
   "outputs": [],
   "source": [
    "import numpy\n",
    "def create_dataset(dataset,time_step=1):\n",
    "    dataX, dataY=[],[]\n",
    "    for i in range(len(dataset)-time_step-1):\n",
    "        a= dataset[i:(i+time_step),0]\n",
    "        dataX.append(a)\n",
    "        dataY.append(dataset[i +time_step,0])\n",
    "    return numpy.array(dataX), numpy.array(dataY)"
   ]
  },
  {
   "cell_type": "code",
   "execution_count": 20,
   "id": "f396785d",
   "metadata": {},
   "outputs": [],
   "source": [
    "time_step=100\n",
    "X_train,y_train=create_dataset(train_data, time_step)\n",
    "X_test,y_test = create_dataset(test_data, time_step)"
   ]
  },
  {
   "cell_type": "code",
   "execution_count": 21,
   "id": "cc6e893a",
   "metadata": {},
   "outputs": [
    {
     "name": "stdout",
     "output_type": "stream",
     "text": [
      "[[0.62418301 0.62214052 0.62622549 ... 0.83455882 0.86213235 0.85273693]\n",
      " [0.62214052 0.62622549 0.63378268 ... 0.86213235 0.85273693 0.87111928]\n",
      " [0.62622549 0.63378268 0.62234477 ... 0.85273693 0.87111928 0.84497549]\n",
      " ...\n",
      " [0.34517974 0.31781046 0.33047386 ... 0.2816585  0.27001634 0.26531863]\n",
      " [0.31781046 0.33047386 0.32128268 ... 0.27001634 0.26531863 0.27389706]\n",
      " [0.33047386 0.32128268 0.34007353 ... 0.26531863 0.27389706 0.25347222]]\n"
     ]
    }
   ],
   "source": [
    "print(X_train)"
   ]
  },
  {
   "cell_type": "code",
   "execution_count": 22,
   "id": "92f17654",
   "metadata": {},
   "outputs": [
    {
     "name": "stdout",
     "output_type": "stream",
     "text": [
      "(1221, 100)\n",
      "(1221,)\n"
     ]
    },
    {
     "data": {
      "text/plain": [
       "(None, None)"
      ]
     },
     "execution_count": 22,
     "metadata": {},
     "output_type": "execute_result"
    }
   ],
   "source": [
    "print(X_train.shape), print(y_train.shape)"
   ]
  },
  {
   "cell_type": "code",
   "execution_count": 23,
   "id": "e07a9a92",
   "metadata": {},
   "outputs": [
    {
     "name": "stdout",
     "output_type": "stream",
     "text": [
      "(612, 100)\n",
      "(612,)\n"
     ]
    },
    {
     "data": {
      "text/plain": [
       "(None, None)"
      ]
     },
     "execution_count": 23,
     "metadata": {},
     "output_type": "execute_result"
    }
   ],
   "source": [
    "print(X_test.shape), print(y_test.shape)"
   ]
  },
  {
   "cell_type": "code",
   "execution_count": 24,
   "id": "58cb254b",
   "metadata": {},
   "outputs": [],
   "source": [
    "X_train=X_train.reshape(X_train.shape[0],X_train.shape[1],1)\n",
    "X_test=X_test.reshape(X_test.shape[0],X_test.shape[1],1)"
   ]
  },
  {
   "cell_type": "code",
   "execution_count": 25,
   "id": "84f7986c",
   "metadata": {},
   "outputs": [],
   "source": [
    "from tensorflow.keras.models import Sequential\n",
    "from tensorflow.keras.layers import Dense\n",
    "from tensorflow.keras.layers import LSTM"
   ]
  },
  {
   "cell_type": "code",
   "execution_count": 26,
   "id": "3f33cf3c",
   "metadata": {},
   "outputs": [],
   "source": [
    "model=Sequential()\n",
    "model.add(LSTM(50,return_sequences=True,input_shape=(100,1)))\n",
    "model.add(LSTM(50,return_sequences=True))\n",
    "model.add(LSTM(50))\n",
    "model.add(Dense(1)) \n",
    "model.compile(loss='mean_squared_error', optimizer='adam')"
   ]
  },
  {
   "cell_type": "code",
   "execution_count": 27,
   "id": "cd793cce",
   "metadata": {
    "scrolled": true
   },
   "outputs": [
    {
     "name": "stdout",
     "output_type": "stream",
     "text": [
      "Model: \"sequential\"\n",
      "_________________________________________________________________\n",
      " Layer (type)                Output Shape              Param #   \n",
      "=================================================================\n",
      " lstm (LSTM)                 (None, 100, 50)           10400     \n",
      "                                                                 \n",
      " lstm_1 (LSTM)               (None, 100, 50)           20200     \n",
      "                                                                 \n",
      " lstm_2 (LSTM)               (None, 50)                20200     \n",
      "                                                                 \n",
      " dense (Dense)               (None, 1)                 51        \n",
      "                                                                 \n",
      "=================================================================\n",
      "Total params: 50851 (198.64 KB)\n",
      "Trainable params: 50851 (198.64 KB)\n",
      "Non-trainable params: 0 (0.00 Byte)\n",
      "_________________________________________________________________\n"
     ]
    }
   ],
   "source": [
    "model.summary()"
   ]
  },
  {
   "cell_type": "markdown",
   "id": "3cb66d48",
   "metadata": {},
   "source": [
    "### Training the model"
   ]
  },
  {
   "cell_type": "code",
   "execution_count": 28,
   "id": "5861788b",
   "metadata": {},
   "outputs": [
    {
     "name": "stdout",
     "output_type": "stream",
     "text": [
      "Epoch 1/100\n",
      "20/20 [==============================] - 8s 185ms/step - loss: 0.0258 - val_loss: 0.0055\n",
      "Epoch 2/100\n",
      "20/20 [==============================] - 3s 135ms/step - loss: 0.0037 - val_loss: 0.0017\n",
      "Epoch 3/100\n",
      "20/20 [==============================] - 3s 138ms/step - loss: 0.0023 - val_loss: 0.0011\n",
      "Epoch 4/100\n",
      "20/20 [==============================] - 3s 142ms/step - loss: 0.0017 - val_loss: 0.0011\n",
      "Epoch 5/100\n",
      "20/20 [==============================] - 3s 174ms/step - loss: 0.0016 - val_loss: 0.0013\n",
      "Epoch 6/100\n",
      "20/20 [==============================] - 4s 194ms/step - loss: 0.0016 - val_loss: 0.0012\n",
      "Epoch 7/100\n",
      "20/20 [==============================] - 4s 192ms/step - loss: 0.0014 - val_loss: 0.0012\n",
      "Epoch 8/100\n",
      "20/20 [==============================] - 4s 188ms/step - loss: 0.0014 - val_loss: 9.9497e-04\n",
      "Epoch 9/100\n",
      "20/20 [==============================] - 4s 186ms/step - loss: 0.0013 - val_loss: 9.8855e-04\n",
      "Epoch 10/100\n",
      "20/20 [==============================] - 4s 185ms/step - loss: 0.0014 - val_loss: 9.4462e-04\n",
      "Epoch 11/100\n",
      "20/20 [==============================] - 4s 198ms/step - loss: 0.0013 - val_loss: 8.4810e-04\n",
      "Epoch 12/100\n",
      "20/20 [==============================] - 4s 188ms/step - loss: 0.0013 - val_loss: 8.1787e-04\n",
      "Epoch 13/100\n",
      "20/20 [==============================] - 4s 223ms/step - loss: 0.0013 - val_loss: 7.0927e-04\n",
      "Epoch 14/100\n",
      "20/20 [==============================] - 4s 207ms/step - loss: 0.0012 - val_loss: 8.5542e-04\n",
      "Epoch 15/100\n",
      "20/20 [==============================] - 4s 182ms/step - loss: 0.0010 - val_loss: 8.0634e-04\n",
      "Epoch 16/100\n",
      "20/20 [==============================] - 4s 192ms/step - loss: 0.0010 - val_loss: 0.0011\n",
      "Epoch 17/100\n",
      "20/20 [==============================] - 4s 185ms/step - loss: 9.7882e-04 - val_loss: 8.0657e-04\n",
      "Epoch 18/100\n",
      "20/20 [==============================] - 4s 196ms/step - loss: 9.3527e-04 - val_loss: 6.4626e-04\n",
      "Epoch 19/100\n",
      "20/20 [==============================] - 5s 230ms/step - loss: 9.5149e-04 - val_loss: 7.2606e-04\n",
      "Epoch 20/100\n",
      "20/20 [==============================] - 5s 244ms/step - loss: 9.2052e-04 - val_loss: 6.0815e-04\n",
      "Epoch 21/100\n",
      "20/20 [==============================] - 5s 256ms/step - loss: 9.7024e-04 - val_loss: 7.5186e-04\n",
      "Epoch 22/100\n",
      "20/20 [==============================] - 5s 263ms/step - loss: 8.5880e-04 - val_loss: 7.2833e-04\n",
      "Epoch 23/100\n",
      "20/20 [==============================] - 5s 243ms/step - loss: 8.9898e-04 - val_loss: 0.0011\n",
      "Epoch 24/100\n",
      "20/20 [==============================] - 4s 198ms/step - loss: 0.0013 - val_loss: 0.0010\n",
      "Epoch 25/100\n",
      "20/20 [==============================] - 4s 190ms/step - loss: 8.1065e-04 - val_loss: 8.2571e-04\n",
      "Epoch 26/100\n",
      "20/20 [==============================] - 4s 182ms/step - loss: 8.1164e-04 - val_loss: 7.8035e-04\n",
      "Epoch 27/100\n",
      "20/20 [==============================] - 4s 176ms/step - loss: 7.9277e-04 - val_loss: 6.1684e-04\n",
      "Epoch 28/100\n",
      "20/20 [==============================] - 4s 189ms/step - loss: 7.8064e-04 - val_loss: 6.0125e-04\n",
      "Epoch 29/100\n",
      "20/20 [==============================] - 4s 185ms/step - loss: 7.0751e-04 - val_loss: 7.5647e-04\n",
      "Epoch 30/100\n",
      "20/20 [==============================] - 3s 174ms/step - loss: 7.2320e-04 - val_loss: 6.4568e-04\n",
      "Epoch 31/100\n",
      "20/20 [==============================] - 3s 176ms/step - loss: 6.6023e-04 - val_loss: 6.2847e-04\n",
      "Epoch 32/100\n",
      "20/20 [==============================] - 3s 173ms/step - loss: 6.8379e-04 - val_loss: 6.0183e-04\n",
      "Epoch 33/100\n",
      "20/20 [==============================] - 3s 169ms/step - loss: 7.3041e-04 - val_loss: 6.9660e-04\n",
      "Epoch 34/100\n",
      "20/20 [==============================] - 4s 187ms/step - loss: 6.3407e-04 - val_loss: 6.2950e-04\n",
      "Epoch 35/100\n",
      "20/20 [==============================] - 4s 185ms/step - loss: 6.3048e-04 - val_loss: 6.6222e-04\n",
      "Epoch 36/100\n",
      "20/20 [==============================] - 3s 162ms/step - loss: 6.3478e-04 - val_loss: 6.2618e-04\n",
      "Epoch 37/100\n",
      "20/20 [==============================] - 3s 169ms/step - loss: 6.0751e-04 - val_loss: 7.1826e-04\n",
      "Epoch 38/100\n",
      "20/20 [==============================] - 3s 165ms/step - loss: 6.2556e-04 - val_loss: 5.0079e-04\n",
      "Epoch 39/100\n",
      "20/20 [==============================] - 3s 166ms/step - loss: 6.0674e-04 - val_loss: 4.8200e-04\n",
      "Epoch 40/100\n",
      "20/20 [==============================] - 3s 166ms/step - loss: 7.6467e-04 - val_loss: 4.7885e-04\n",
      "Epoch 41/100\n",
      "20/20 [==============================] - 3s 169ms/step - loss: 6.5098e-04 - val_loss: 5.9991e-04\n",
      "Epoch 42/100\n",
      "20/20 [==============================] - 3s 167ms/step - loss: 6.8449e-04 - val_loss: 7.8739e-04\n",
      "Epoch 43/100\n",
      "20/20 [==============================] - 3s 160ms/step - loss: 5.7004e-04 - val_loss: 6.3120e-04\n",
      "Epoch 44/100\n",
      "20/20 [==============================] - 3s 157ms/step - loss: 5.5594e-04 - val_loss: 5.8464e-04\n",
      "Epoch 45/100\n",
      "20/20 [==============================] - 3s 155ms/step - loss: 5.3839e-04 - val_loss: 4.9476e-04\n",
      "Epoch 46/100\n",
      "20/20 [==============================] - 3s 155ms/step - loss: 5.5385e-04 - val_loss: 6.6578e-04\n",
      "Epoch 47/100\n",
      "20/20 [==============================] - 3s 155ms/step - loss: 5.1809e-04 - val_loss: 5.1219e-04\n",
      "Epoch 48/100\n",
      "20/20 [==============================] - 3s 159ms/step - loss: 5.0924e-04 - val_loss: 6.1625e-04\n",
      "Epoch 49/100\n",
      "20/20 [==============================] - 3s 166ms/step - loss: 6.2928e-04 - val_loss: 6.5308e-04\n",
      "Epoch 50/100\n",
      "20/20 [==============================] - 3s 155ms/step - loss: 5.2178e-04 - val_loss: 6.0007e-04\n",
      "Epoch 51/100\n",
      "20/20 [==============================] - 3s 158ms/step - loss: 4.9455e-04 - val_loss: 4.3451e-04\n",
      "Epoch 52/100\n",
      "20/20 [==============================] - 3s 157ms/step - loss: 5.3582e-04 - val_loss: 5.4868e-04\n",
      "Epoch 53/100\n",
      "20/20 [==============================] - 3s 155ms/step - loss: 5.3872e-04 - val_loss: 4.0509e-04\n",
      "Epoch 54/100\n",
      "20/20 [==============================] - 3s 158ms/step - loss: 5.0483e-04 - val_loss: 4.1018e-04\n",
      "Epoch 55/100\n",
      "20/20 [==============================] - 3s 147ms/step - loss: 4.8369e-04 - val_loss: 5.5930e-04\n",
      "Epoch 56/100\n",
      "20/20 [==============================] - 3s 152ms/step - loss: 5.2226e-04 - val_loss: 6.8529e-04\n",
      "Epoch 57/100\n",
      "20/20 [==============================] - 3s 154ms/step - loss: 4.5784e-04 - val_loss: 4.2068e-04\n",
      "Epoch 58/100\n",
      "20/20 [==============================] - 3s 157ms/step - loss: 4.5104e-04 - val_loss: 4.2497e-04\n",
      "Epoch 59/100\n",
      "20/20 [==============================] - 3s 154ms/step - loss: 4.6364e-04 - val_loss: 3.9290e-04\n",
      "Epoch 60/100\n",
      "20/20 [==============================] - 3s 152ms/step - loss: 4.3662e-04 - val_loss: 5.3789e-04\n",
      "Epoch 61/100\n",
      "20/20 [==============================] - 3s 163ms/step - loss: 4.9495e-04 - val_loss: 3.8307e-04\n",
      "Epoch 62/100\n",
      "20/20 [==============================] - 3s 156ms/step - loss: 4.2216e-04 - val_loss: 5.4886e-04\n",
      "Epoch 63/100\n",
      "20/20 [==============================] - 3s 156ms/step - loss: 4.1246e-04 - val_loss: 3.7987e-04\n",
      "Epoch 64/100\n",
      "20/20 [==============================] - 3s 161ms/step - loss: 4.7426e-04 - val_loss: 3.7623e-04\n",
      "Epoch 65/100\n",
      "20/20 [==============================] - 3s 162ms/step - loss: 3.9642e-04 - val_loss: 4.6538e-04\n",
      "Epoch 66/100\n",
      "20/20 [==============================] - 3s 155ms/step - loss: 4.3123e-04 - val_loss: 3.8155e-04\n",
      "Epoch 67/100\n",
      "20/20 [==============================] - 3s 153ms/step - loss: 4.5491e-04 - val_loss: 4.0549e-04\n",
      "Epoch 68/100\n",
      "20/20 [==============================] - 3s 152ms/step - loss: 5.8560e-04 - val_loss: 3.9792e-04\n",
      "Epoch 69/100\n",
      "20/20 [==============================] - 3s 156ms/step - loss: 8.7223e-04 - val_loss: 3.4808e-04\n",
      "Epoch 70/100\n",
      "20/20 [==============================] - 3s 156ms/step - loss: 5.0972e-04 - val_loss: 4.3033e-04\n",
      "Epoch 71/100\n",
      "20/20 [==============================] - 3s 160ms/step - loss: 4.0066e-04 - val_loss: 3.6624e-04\n",
      "Epoch 72/100\n",
      "20/20 [==============================] - 3s 159ms/step - loss: 3.7100e-04 - val_loss: 3.0097e-04\n",
      "Epoch 73/100\n",
      "20/20 [==============================] - 3s 159ms/step - loss: 4.0331e-04 - val_loss: 3.3499e-04\n",
      "Epoch 74/100\n",
      "20/20 [==============================] - 3s 160ms/step - loss: 3.7448e-04 - val_loss: 3.5792e-04\n",
      "Epoch 75/100\n",
      "20/20 [==============================] - 3s 156ms/step - loss: 4.2564e-04 - val_loss: 3.4441e-04\n",
      "Epoch 76/100\n",
      "20/20 [==============================] - 3s 150ms/step - loss: 3.8605e-04 - val_loss: 3.1688e-04\n",
      "Epoch 77/100\n",
      "20/20 [==============================] - 3s 159ms/step - loss: 3.4891e-04 - val_loss: 3.2281e-04\n",
      "Epoch 78/100\n",
      "20/20 [==============================] - 3s 155ms/step - loss: 3.3354e-04 - val_loss: 3.1545e-04\n",
      "Epoch 79/100\n",
      "20/20 [==============================] - 3s 167ms/step - loss: 3.2396e-04 - val_loss: 3.3587e-04\n",
      "Epoch 80/100\n",
      "20/20 [==============================] - 3s 161ms/step - loss: 3.3161e-04 - val_loss: 2.5543e-04\n",
      "Epoch 81/100\n",
      "20/20 [==============================] - 3s 157ms/step - loss: 3.2287e-04 - val_loss: 3.0257e-04\n",
      "Epoch 82/100\n",
      "20/20 [==============================] - 3s 158ms/step - loss: 3.0703e-04 - val_loss: 2.7648e-04\n",
      "Epoch 83/100\n",
      "20/20 [==============================] - 3s 151ms/step - loss: 3.0564e-04 - val_loss: 2.7384e-04\n",
      "Epoch 84/100\n",
      "20/20 [==============================] - 3s 154ms/step - loss: 2.9960e-04 - val_loss: 2.4639e-04\n",
      "Epoch 85/100\n",
      "20/20 [==============================] - 3s 157ms/step - loss: 3.0263e-04 - val_loss: 3.2709e-04\n",
      "Epoch 86/100\n",
      "20/20 [==============================] - 3s 153ms/step - loss: 3.2220e-04 - val_loss: 3.1914e-04\n",
      "Epoch 87/100\n",
      "20/20 [==============================] - 3s 152ms/step - loss: 3.5975e-04 - val_loss: 3.1805e-04\n",
      "Epoch 88/100\n",
      "20/20 [==============================] - 3s 151ms/step - loss: 2.8667e-04 - val_loss: 2.9146e-04\n",
      "Epoch 89/100\n",
      "20/20 [==============================] - 3s 157ms/step - loss: 3.2673e-04 - val_loss: 2.5047e-04\n",
      "Epoch 90/100\n",
      "20/20 [==============================] - 3s 153ms/step - loss: 3.7423e-04 - val_loss: 2.5304e-04\n",
      "Epoch 91/100\n",
      "20/20 [==============================] - 3s 155ms/step - loss: 2.9372e-04 - val_loss: 2.8679e-04\n",
      "Epoch 92/100\n",
      "20/20 [==============================] - 3s 153ms/step - loss: 2.8722e-04 - val_loss: 4.1920e-04\n",
      "Epoch 93/100\n",
      "20/20 [==============================] - 3s 151ms/step - loss: 3.1728e-04 - val_loss: 2.7555e-04\n",
      "Epoch 94/100\n",
      "20/20 [==============================] - 3s 150ms/step - loss: 2.7547e-04 - val_loss: 2.6610e-04\n",
      "Epoch 95/100\n",
      "20/20 [==============================] - 3s 154ms/step - loss: 2.6929e-04 - val_loss: 2.3956e-04\n",
      "Epoch 96/100\n",
      "20/20 [==============================] - 3s 150ms/step - loss: 2.8404e-04 - val_loss: 3.1258e-04\n",
      "Epoch 97/100\n",
      "20/20 [==============================] - 3s 157ms/step - loss: 3.0016e-04 - val_loss: 2.8712e-04\n",
      "Epoch 98/100\n",
      "20/20 [==============================] - 3s 151ms/step - loss: 2.9945e-04 - val_loss: 2.2071e-04\n",
      "Epoch 99/100\n",
      "20/20 [==============================] - 3s 150ms/step - loss: 3.0693e-04 - val_loss: 2.2537e-04\n",
      "Epoch 100/100\n",
      "20/20 [==============================] - 3s 161ms/step - loss: 2.8532e-04 - val_loss: 3.8487e-04\n"
     ]
    },
    {
     "data": {
      "text/plain": [
       "<keras.src.callbacks.History at 0x2069991d970>"
      ]
     },
     "execution_count": 28,
     "metadata": {},
     "output_type": "execute_result"
    }
   ],
   "source": [
    "model.fit(X_train,y_train, validation_data=(X_test,y_test), epochs=100,batch_size=64, verbose=1)"
   ]
  },
  {
   "cell_type": "code",
   "execution_count": 29,
   "id": "f6ac56b5",
   "metadata": {},
   "outputs": [],
   "source": [
    "import tensorflow as tf"
   ]
  },
  {
   "cell_type": "code",
   "execution_count": 30,
   "id": "951f3247",
   "metadata": {},
   "outputs": [
    {
     "name": "stdout",
     "output_type": "stream",
     "text": [
      "39/39 [==============================] - 2s 27ms/step\n",
      "20/20 [==============================] - 1s 26ms/step\n"
     ]
    }
   ],
   "source": [
    "train_predict=model.predict(X_train)\n",
    "test_predict=model.predict(X_test)"
   ]
  },
  {
   "cell_type": "code",
   "execution_count": 31,
   "id": "a813bbfd",
   "metadata": {},
   "outputs": [],
   "source": [
    "train_predict=scaler.inverse_transform(train_predict)\n",
    "test_predict=scaler.inverse_transform(test_predict)"
   ]
  },
  {
   "cell_type": "code",
   "execution_count": 32,
   "id": "7939dade",
   "metadata": {},
   "outputs": [
    {
     "data": {
      "text/plain": [
       "118.01217722338113"
      ]
     },
     "execution_count": 32,
     "metadata": {},
     "output_type": "execute_result"
    }
   ],
   "source": [
    "import math\n",
    "from sklearn.metrics import mean_squared_error\n",
    "math.sqrt(mean_squared_error(y_test,test_predict))"
   ]
  },
  {
   "cell_type": "code",
   "execution_count": 33,
   "id": "91b2d527",
   "metadata": {},
   "outputs": [
    {
     "data": {
      "text/plain": [
       "118.01217722338113"
      ]
     },
     "execution_count": 33,
     "metadata": {},
     "output_type": "execute_result"
    }
   ],
   "source": [
    "math.sqrt(mean_squared_error(y_test,test_predict))\n"
   ]
  },
  {
   "cell_type": "code",
   "execution_count": 34,
   "id": "a8237c63",
   "metadata": {},
   "outputs": [
    {
     "data": {
      "image/png": "[encoded data removed]",
      "text/plain": [
       "<Figure size 640x480 with 1 Axes>"
      ]
     },
     "metadata": {},
     "output_type": "display_data"
    }
   ],
   "source": [
    "look_back=100\n",
    "trainPredictPlot=numpy.empty_like(df1)\n",
    "trainPredictPlot[:, :]= np.nan\n",
    "trainPredictPlot[look_back:len(train_predict)+look_back, :]= train_predict\n",
    "\n",
    "testPredictPlot=numpy.empty_like(df1)\n",
    "testPredictPlot[:, :]= np.nan\n",
    "testPredictPlot[len(train_predict)+(look_back*2)+1:len(df1)-1,:]= test_predict\n",
    "\n",
    "plt.plot(scaler.inverse_transform(df1))\n",
    "plt.plot(trainPredictPlot)\n",
    "plt.plot(testPredictPlot)\n",
    "plt.show()"
   ]
  }
 ],
 "metadata": {
  "kernelspec": {
   "display_name": "Python 3 (ipykernel)",
   "language": "python",
   "name": "python3"
  },
  "language_info": {
   "codemirror_mode": {
    "name": "ipython",
    "version": 3
   },
   "file_extension": ".py",
   "mimetype": "text/x-python",
   "name": "python",
   "nbconvert_exporter": "python",
   "pygments_lexer": "ipython3",
   "version": "3.9.13"
  }
 },
 "nbformat": 4,
 "nbformat_minor": 5
}
